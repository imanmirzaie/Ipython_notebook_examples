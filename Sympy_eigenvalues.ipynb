{
 "metadata": {
  "name": "",
  "signature": "sha256:396ea8c0f9a34d33625f383335903e595d985dd14392745ccb92723aea471aa4"
 },
 "nbformat": 3,
 "nbformat_minor": 0,
 "worksheets": [
  {
   "cells": [
    {
     "cell_type": "code",
     "collapsed": false,
     "input": [
      "from sympy import Matrix,init_printing\n",
      "init_printing()"
     ],
     "language": "python",
     "metadata": {},
     "outputs": [],
     "prompt_number": 4
    },
    {
     "cell_type": "code",
     "collapsed": false,
     "input": [
      "m = Matrix([[10,2,3], [3,12,5], [5,5,8]])\n",
      "print(m.eigenvals())\n",
      "# this gets the eigenvalues along with their multiplicity"
     ],
     "language": "python",
     "metadata": {},
     "outputs": [
      {
       "output_type": "stream",
       "stream": "stdout",
       "text": [
        "{10 + 50/(3*(77/2 + sqrt(1019751)*I/18)**(1/3)) + (77/2 + sqrt(1019751)*I/18)**(1/3): 1, 10 + 50/(3*(-1/2 + sqrt(3)*I/2)*(77/2 + sqrt(1019751)*I/18)**(1/3)) + (-1/2 + sqrt(3)*I/2)*(77/2 + sqrt(1019751)*I/18)**(1/3): 1, 10 + (-1/2 - sqrt(3)*I/2)*(77/2 + sqrt(1019751)*I/18)**(1/3) + 50/(3*(-1/2 - sqrt(3)*I/2)*(77/2 + sqrt(1019751)*I/18)**(1/3)): 1}\n"
       ]
      }
     ],
     "prompt_number": 5
    },
    {
     "cell_type": "code",
     "collapsed": false,
     "input": [
      "print(map(complex, m.eigenvals().keys()))"
     ],
     "language": "python",
     "metadata": {},
     "outputs": [
      {
       "output_type": "stream",
       "stream": "stdout",
       "text": [
        "<map object at 0x0000000006365898>\n"
       ]
      }
     ],
     "prompt_number": 6
    },
    {
     "cell_type": "code",
     "collapsed": false,
     "input": [
      "# check with numpy\n",
      "import numpy as np\n",
      "print(np.linalg.eigvals(np.array(m.tolist(), dtype=float)))"
     ],
     "language": "python",
     "metadata": {},
     "outputs": [
      {
       "output_type": "stream",
       "stream": "stdout",
       "text": [
        "[ 17.74242856   8.37402514   3.8835463 ]\n"
       ]
      }
     ],
     "prompt_number": 7
    },
    {
     "cell_type": "code",
     "collapsed": false,
     "input": [],
     "language": "python",
     "metadata": {},
     "outputs": []
    }
   ],
   "metadata": {}
  }
 ]
}