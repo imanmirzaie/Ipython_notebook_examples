{
 "metadata": {
  "name": "",
  "signature": "sha256:c72f83a6e3bcaba048e06c3494d54cb60e65c92889504a9df3c5373c12043fbc"
 },
 "nbformat": 3,
 "nbformat_minor": 0,
 "worksheets": [
  {
   "cells": [
    {
     "cell_type": "code",
     "collapsed": false,
     "input": [
      "import numpy as np\n",
      "import matplotlib.pyplot as plt"
     ],
     "language": "python",
     "metadata": {},
     "outputs": [],
     "prompt_number": 1
    },
    {
     "cell_type": "code",
     "collapsed": false,
     "input": [
      "c = 3e8\n",
      "\n",
      "freq = lambda l: c/l\n",
      "dfreq = lambda l1,l2: np.abs(freq(l1)-freq(l2))\n",
      "\n",
      "lambd = lambda f: c/f\n",
      "dlambd = lambda f1,f2: np.abs(lambd(f1)-lambd(f2))\n",
      "\n",
      "cmfreq = lambda f: 1e-2*f/c\n",
      "cmlambda = lambda l: 1e-2/l"
     ],
     "language": "python",
     "metadata": {},
     "outputs": [],
     "prompt_number": 10
    },
    {
     "cell_type": "code",
     "collapsed": false,
     "input": [
      "f1 = 0.5e12\n",
      "df = f1/20\n",
      "\n",
      "f2 = f1+df\n",
      "\n",
      "print('f1 = ',f1*1e-12,'THz')\n",
      "print('f2 = ',f2*1e-12,'THz')\n",
      "print('df = ',df*1e-12,'THz')\n",
      "print('lambda_1 = ',lambd(f1)*1e6,'um')\n",
      "print('lambda_2 = ',lambd(f2)*1e6,'um')\n",
      "print('dlambda = ',dlambd(f1,f2)*1e6,'um')"
     ],
     "language": "python",
     "metadata": {},
     "outputs": [
      {
       "output_type": "stream",
       "stream": "stdout",
       "text": [
        "f1 =  0.5 THz\n",
        "f2 =  0.525 THz\n",
        "df =  0.024999999999999998 THz\n",
        "lambda_1 =  600.0 um\n",
        "lambda_2 =  571.4285714285714 um\n",
        "dlambda =  28.5714285714 um\n"
       ]
      }
     ],
     "prompt_number": 8
    },
    {
     "cell_type": "code",
     "collapsed": false,
     "input": [
      "cmfreq(f1)"
     ],
     "language": "python",
     "metadata": {},
     "outputs": [
      {
       "metadata": {},
       "output_type": "pyout",
       "prompt_number": 13,
       "text": [
        "16.666666666666668"
       ]
      }
     ],
     "prompt_number": 13
    },
    {
     "cell_type": "code",
     "collapsed": false,
     "input": [
      "cmlambda(660e-6)"
     ],
     "language": "python",
     "metadata": {},
     "outputs": [
      {
       "metadata": {},
       "output_type": "pyout",
       "prompt_number": 15,
       "text": [
        "15.151515151515152"
       ]
      }
     ],
     "prompt_number": 15
    },
    {
     "cell_type": "code",
     "collapsed": false,
     "input": [
      "cmfreq(200e9)"
     ],
     "language": "python",
     "metadata": {},
     "outputs": [
      {
       "metadata": {},
       "output_type": "pyout",
       "prompt_number": 16,
       "text": [
        "6.666666666666667"
       ]
      }
     ],
     "prompt_number": 16
    },
    {
     "cell_type": "code",
     "collapsed": false,
     "input": [
      "100/cmfreq(200e9)"
     ],
     "language": "python",
     "metadata": {},
     "outputs": [
      {
       "metadata": {},
       "output_type": "pyout",
       "prompt_number": 18,
       "text": [
        "15.0"
       ]
      }
     ],
     "prompt_number": 18
    },
    {
     "cell_type": "heading",
     "level": 1,
     "metadata": {},
     "source": [
      "Interferometer length for a given resolution"
     ]
    },
    {
     "cell_type": "markdown",
     "metadata": {},
     "source": [
      "The needed length for a moving mirror is simply given by the spectral resolution:\n",
      "\n",
      "$l_{mirror} = \\frac{c}{\\delta f}$\n",
      "\n",
      "where $c$ is the speed of light and $\\delta f$ is the spectral resolution. For exapmle, for frequency of 0.5 THz, if we want to resolve the spectra in 1/100 parts, we will need $\\delta f = 0.5 \\cdot 10^{12} \\cdot 10^{-2} = 0.5 \\cdot 10^{10}$ and the moving mirror must be  $l_{mirror} = \\frac{3\\cdot 10^{8}}{0.5 \\cdot 10^{10}}= 6$cm long."
     ]
    },
    {
     "cell_type": "code",
     "collapsed": false,
     "input": [
      "lambd(0.5e12/100)"
     ],
     "language": "python",
     "metadata": {},
     "outputs": [
      {
       "metadata": {},
       "output_type": "pyout",
       "prompt_number": 24,
       "text": [
        "0.06"
       ]
      }
     ],
     "prompt_number": 24
    },
    {
     "cell_type": "code",
     "collapsed": false,
     "input": [],
     "language": "python",
     "metadata": {},
     "outputs": []
    }
   ],
   "metadata": {}
  }
 ]
}