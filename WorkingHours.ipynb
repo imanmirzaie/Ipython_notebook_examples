{
 "metadata": {
  "name": ""
 },
 "nbformat": 3,
 "nbformat_minor": 0,
 "worksheets": [
  {
   "cells": [
    {
     "cell_type": "code",
     "collapsed": false,
     "input": [
      "import datetime as dt\n",
      "from datetime import datetime \n",
      "from operator import sub"
     ],
     "language": "python",
     "metadata": {},
     "outputs": [],
     "prompt_number": 1
    },
    {
     "cell_type": "code",
     "collapsed": false,
     "input": [
      "f = open('notes.txt')\n",
      "data = [dat for dat in f]\n",
      "f.close()"
     ],
     "language": "python",
     "metadata": {},
     "outputs": [],
     "prompt_number": 2
    },
    {
     "cell_type": "code",
     "collapsed": false,
     "input": [
      "#str = '2014-03-18\t09:15\t12:00\t13:00\t14:45\t15:15\t18:05 19:20 20:00'\n",
      "str = data[-5]"
     ],
     "language": "python",
     "metadata": {},
     "outputs": [],
     "prompt_number": 3
    },
    {
     "cell_type": "code",
     "collapsed": false,
     "input": [
      "strlist = str.split()\n",
      "\n",
      "if (len(strlist[1:])%2 != 0):\n",
      "    print('Number of hour entreis must be even!')\n",
      "else:\n",
      "    tlist = [datetime.strptime(s,'%H:%M') for s in strlist[1:]]\n",
      "    difflist = list(map(sub,tlist[1::2],tlist[::2]))\n",
      "    total_sec = sum([i.seconds for i in difflist])\n",
      "\n",
      "    print('Total time in HH:MM:SS : ', dt.timedelta(seconds = total_sec))\n",
      "    \n"
     ],
     "language": "python",
     "metadata": {},
     "outputs": [
      {
       "output_type": "stream",
       "stream": "stdout",
       "text": [
        "Total time in HH:MM:SS :  7:35:00\n"
       ]
      }
     ],
     "prompt_number": 4
    },
    {
     "cell_type": "code",
     "collapsed": false,
     "input": [],
     "language": "python",
     "metadata": {},
     "outputs": []
    }
   ],
   "metadata": {}
  }
 ]
}