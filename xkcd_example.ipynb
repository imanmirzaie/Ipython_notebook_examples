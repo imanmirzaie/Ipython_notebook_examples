{
 "metadata": {
  "name": "",
  "signature": "sha256:cd377cf2bc902419c2d75f7abe4ff6b33a546446756dd7a490cfc3049bd410ea"
 },
 "nbformat": 3,
 "nbformat_minor": 0,
 "worksheets": [
  {
   "cells": [
    {
     "cell_type": "code",
     "collapsed": false,
     "input": [
      "%pylab\n",
      "from matplotlib import pyplot as plt\n",
      "import numpy as np\n",
      "ion()\n",
      "plt.xkcd()"
     ],
     "language": "python",
     "metadata": {},
     "outputs": [
      {
       "output_type": "stream",
       "stream": "stdout",
       "text": [
        "Using matplotlib backend: TkAgg\n",
        "Populating the interactive namespace from numpy and matplotlib\n"
       ]
      },
      {
       "metadata": {},
       "output_type": "pyout",
       "prompt_number": 1,
       "text": [
        "<matplotlib.rc_context at 0x40c3a58>"
       ]
      }
     ],
     "prompt_number": 1
    },
    {
     "cell_type": "code",
     "collapsed": false,
     "input": [
      "fig = plt.figure()\n",
      "ax = fig.add_subplot(1, 1, 1)\n",
      "ax.spines['right'].set_color('none')\n",
      "ax.spines['top'].set_color('none')\n",
      "plt.xticks([])\n",
      "plt.yticks([])\n",
      "ax.set_ylim([-30, 10])\n",
      "\n",
      "data = np.ones(100)\n",
      "data[70:] -= np.arange(30)\n",
      "\n",
      "plt.annotate(\n",
      "    'THE DAY I REALIZED\\nI COULD COOK BACON\\nWHENEVER I WANTED',\n",
      "    xy=(70, 1), arrowprops=dict(arrowstyle='->'), xytext=(15, -10))\n",
      "\n",
      "plt.plot(data)\n",
      "\n",
      "plt.xlabel('time')\n",
      "plt.ylabel('my overall health')"
     ],
     "language": "python",
     "metadata": {},
     "outputs": [
      {
       "metadata": {},
       "output_type": "pyout",
       "prompt_number": 2,
       "text": [
        "<matplotlib.text.Text at 0x657b320>"
       ]
      }
     ],
     "prompt_number": 2
    },
    {
     "cell_type": "code",
     "collapsed": false,
     "input": [
      "fig = plt.figure()\n",
      "ax = fig.add_subplot(1, 1, 1)\n",
      "ax.bar([-0.125, 1.0-0.125], [0, 100], 0.25)\n",
      "ax.spines['right'].set_color('none')\n",
      "ax.spines['top'].set_color('none')\n",
      "ax.xaxis.set_ticks_position('bottom')\n",
      "ax.set_xticks([0, 1])\n",
      "ax.set_xlim([-0.5, 1.5])\n",
      "ax.set_ylim([0, 110])\n",
      "ax.set_xticklabels(['CONFIRMED BY\\nEXPERIMENT', 'REFUTED BY\\nEXPERIMENT'])\n",
      "plt.yticks([])\n",
      "\n",
      "plt.title(\"CLAIMS OF SUPERNATURAL POWERS\")\n"
     ],
     "language": "python",
     "metadata": {},
     "outputs": [
      {
       "metadata": {},
       "output_type": "pyout",
       "prompt_number": 3,
       "text": [
        "<matplotlib.text.Text at 0x8cae748>"
       ]
      }
     ],
     "prompt_number": 3
    },
    {
     "cell_type": "code",
     "collapsed": false,
     "input": [
      "x=linspace(0,10,200)\n",
      "plot(x,sin(x))\n",
      "xlabel('Time (s)')\n",
      "ylabel('amplitude (a.u.)')"
     ],
     "language": "python",
     "metadata": {},
     "outputs": [
      {
       "metadata": {},
       "output_type": "pyout",
       "prompt_number": 6,
       "text": [
        "<matplotlib.text.Text at 0x8d68550>"
       ]
      }
     ],
     "prompt_number": 6
    },
    {
     "cell_type": "code",
     "collapsed": false,
     "input": [],
     "language": "python",
     "metadata": {},
     "outputs": []
    }
   ],
   "metadata": {}
  }
 ]
}