{
 "cells": [
  {
   "cell_type": "code",
   "execution_count": 11,
   "metadata": {
    "collapsed": false
   },
   "outputs": [],
   "source": [
    "class human(object):\n",
    "    def clothes(self):\n",
    "        print('Unisex clothes')\n",
    "        \n",
    "    def socks(self):\n",
    "        print('Unisex socks')\n",
    "        \n",
    "    def head(self):\n",
    "        print('Human\\'s head')\n",
    "\n",
    "class man_only(object):\n",
    "    def clothes(self):\n",
    "        print('Men\\'s clothes')\n",
    "        \n",
    "    def socks(self):\n",
    "        print('Men\\'s socks') \n",
    "        \n",
    "class man_human(human):\n",
    "    def clothes(self):\n",
    "        print('Men\\'s clothes')\n",
    "        \n",
    "    def socks(self):\n",
    "        print('Men\\'s socks') \n",
    "\n",
    "class talented(object):\n",
    "    IQ = 100\n",
    "    def showIQ(self):\n",
    "        print(self.IQ)\n",
    "        \n",
    "class man_smart(human,talented):\n",
    "    IQ1 = 100\n",
    "    IQ2 = talented.IQ\n",
    "    pass\n",
    "\n",
    "        "
   ]
  },
  {
   "cell_type": "code",
   "execution_count": 12,
   "metadata": {
    "collapsed": false
   },
   "outputs": [],
   "source": [
    "man1 = man_only()"
   ]
  },
  {
   "cell_type": "code",
   "execution_count": 13,
   "metadata": {
    "collapsed": false
   },
   "outputs": [
    {
     "name": "stdout",
     "output_type": "stream",
     "text": [
      "Men's clothes\n",
      "Men's socks\n"
     ]
    }
   ],
   "source": [
    "man1.clothes()\n",
    "man1.socks()"
   ]
  },
  {
   "cell_type": "code",
   "execution_count": 14,
   "metadata": {
    "collapsed": false
   },
   "outputs": [],
   "source": [
    "man2 = man_human()"
   ]
  },
  {
   "cell_type": "code",
   "execution_count": 15,
   "metadata": {
    "collapsed": false
   },
   "outputs": [
    {
     "name": "stdout",
     "output_type": "stream",
     "text": [
      "Human's head\n"
     ]
    }
   ],
   "source": [
    "man2.head()"
   ]
  },
  {
   "cell_type": "code",
   "execution_count": 16,
   "metadata": {
    "collapsed": false
   },
   "outputs": [],
   "source": [
    "man3 = man_smart()"
   ]
  },
  {
   "cell_type": "code",
   "execution_count": 17,
   "metadata": {
    "collapsed": false
   },
   "outputs": [
    {
     "name": "stdout",
     "output_type": "stream",
     "text": [
      "Unisex clothes\n"
     ]
    }
   ],
   "source": [
    "man3.clothes()"
   ]
  },
  {
   "cell_type": "code",
   "execution_count": 18,
   "metadata": {
    "collapsed": false
   },
   "outputs": [
    {
     "data": {
      "text/plain": [
       "100"
      ]
     },
     "execution_count": 18,
     "metadata": {},
     "output_type": "execute_result"
    }
   ],
   "source": [
    "man3.IQ"
   ]
  },
  {
   "cell_type": "code",
   "execution_count": 19,
   "metadata": {
    "collapsed": false
   },
   "outputs": [
    {
     "data": {
      "text/plain": [
       "100"
      ]
     },
     "execution_count": 19,
     "metadata": {},
     "output_type": "execute_result"
    }
   ],
   "source": [
    "man3.IQ1"
   ]
  },
  {
   "cell_type": "code",
   "execution_count": 20,
   "metadata": {
    "collapsed": false
   },
   "outputs": [
    {
     "data": {
      "text/plain": [
       "100"
      ]
     },
     "execution_count": 20,
     "metadata": {},
     "output_type": "execute_result"
    }
   ],
   "source": [
    "man3.IQ2"
   ]
  }
 ],
 "metadata": {
  "kernelspec": {
   "display_name": "Python 3",
   "language": "python",
   "name": "python3"
  },
  "language_info": {
   "codemirror_mode": {
    "name": "ipython",
    "version": 3
   },
   "file_extension": ".py",
   "mimetype": "text/x-python",
   "name": "python",
   "nbconvert_exporter": "python",
   "pygments_lexer": "ipython3",
   "version": "3.3.3"
  }
 },
 "nbformat": 4,
 "nbformat_minor": 0
}
