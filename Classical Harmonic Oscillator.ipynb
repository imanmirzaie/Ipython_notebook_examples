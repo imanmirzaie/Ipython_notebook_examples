{
 "metadata": {
  "name": "",
  "signature": "sha256:be803f61eeb1439ab3f8abf9b8db431234f115e0eef1ce9a815778d43933c61e"
 },
 "nbformat": 3,
 "nbformat_minor": 0,
 "worksheets": [
  {
   "cells": [
    {
     "cell_type": "code",
     "collapsed": false,
     "input": [
      "import sympy as sp\n",
      "%pylab inline \n",
      "sp.init_printing()"
     ],
     "language": "python",
     "metadata": {},
     "outputs": [
      {
       "output_type": "stream",
       "stream": "stdout",
       "text": [
        "Populating the interactive namespace from numpy and matplotlib\n"
       ]
      }
     ],
     "prompt_number": 1
    },
    {
     "cell_type": "heading",
     "level": 1,
     "metadata": {},
     "source": [
      "Undamped case"
     ]
    },
    {
     "cell_type": "markdown",
     "metadata": {},
     "source": [
      "Solving for when there is no damping force (like friction):\n",
      "\n",
      "$m\\frac{\\mathrm{d}^2x}{\\mathrm{d}t^2}+kx=0$"
     ]
    },
    {
     "cell_type": "code",
     "collapsed": false,
     "input": [
      "c,t,m,k = sp.symbols('c t m k',real=True,positive=True)\n",
      "x = sp.Function('x')"
     ],
     "language": "python",
     "metadata": {},
     "outputs": [],
     "prompt_number": 23
    },
    {
     "cell_type": "code",
     "collapsed": false,
     "input": [
      "#sp.dsolve(m*x(t).diff(t,t) + k*x(t),x(t),ics={x(0):0,x(t).diff(t).subs(t,0):1})\n",
      "sp.dsolve(m*x(t).diff(t,t) + k*x(t),x(t))"
     ],
     "language": "python",
     "metadata": {},
     "outputs": [
      {
       "latex": [
        "$$x{\\left (t \\right )} = C_{1} \\sin{\\left (\\frac{\\sqrt{k} t}{\\sqrt{m}} \\right )} + C_{2} \\cos{\\left (\\frac{\\sqrt{k} t}{\\sqrt{m}} \\right )}$$"
       ],
       "metadata": {},
       "output_type": "pyout",
       "png": "[encoded data removed]",
       "prompt_number": 24,
       "text": [
        "             \u239b  ___  \u239e         \u239b  ___  \u239e\n",
        "             \u239c\u2572\u2571 k \u22c5t\u239f         \u239c\u2572\u2571 k \u22c5t\u239f\n",
        "x(t) = C\u2081\u22c5sin\u239c\u2500\u2500\u2500\u2500\u2500\u2500\u2500\u239f + C\u2082\u22c5cos\u239c\u2500\u2500\u2500\u2500\u2500\u2500\u2500\u239f\n",
        "             \u239c   ___ \u239f         \u239c   ___ \u239f\n",
        "             \u239d \u2572\u2571 m  \u23a0         \u239d \u2572\u2571 m  \u23a0"
       ]
      }
     ],
     "prompt_number": 24
    },
    {
     "cell_type": "heading",
     "level": 1,
     "metadata": {},
     "source": [
      "Damped case"
     ]
    },
    {
     "cell_type": "markdown",
     "metadata": {},
     "source": [
      "In this case there will be a restoring force:\n",
      "\n",
      "$m\\frac{\\mathrm{d}^2x}{\\mathrm{d}t^2}+c\\frac{\\mathrm{d}x}{\\mathrm{d}t}+kx=0$"
     ]
    },
    {
     "cell_type": "code",
     "collapsed": false,
     "input": [
      "sp.dsolve(m*x(t).diff(t,t) +c*x(t).diff(t) + k*x(t),x(t))"
     ],
     "language": "python",
     "metadata": {},
     "outputs": [
      {
       "latex": [
        "$$x{\\left (t \\right )} = C_{1} e^{\\frac{t}{2 m} \\left(- c - \\cos{\\left (\\frac{1}{2} \\operatorname{atan2}{\\left (0,c^{2} - 4 k m \\right )} \\right )} \\sqrt{\\left\\lvert{c^{2} - 4 k m}\\right\\rvert}\\right)} \\sin{\\left (\\frac{t}{2 m} \\left\\lvert{\\sin{\\left (\\frac{1}{2} \\operatorname{atan2}{\\left (0,c^{2} - 4 k m \\right )} \\right )} \\sqrt{\\left\\lvert{c^{2} - 4 k m}\\right\\rvert}}\\right\\rvert \\right )} + C_{2} e^{\\frac{t}{2 m} \\left(- c - \\cos{\\left (\\frac{1}{2} \\operatorname{atan2}{\\left (0,c^{2} - 4 k m \\right )} \\right )} \\sqrt{\\left\\lvert{c^{2} - 4 k m}\\right\\rvert}\\right)} \\cos{\\left (\\frac{t}{2 m} \\sin{\\left (\\frac{1}{2} \\operatorname{atan2}{\\left (0,c^{2} - 4 k m \\right )} \\right )} \\sqrt{\\left\\lvert{c^{2} - 4 k m}\\right\\rvert} \\right )} + C_{3} e^{\\frac{t}{2 m} \\left(- c + \\cos{\\left (\\frac{1}{2} \\operatorname{atan2}{\\left (0,c^{2} - 4 k m \\right )} \\right )} \\sqrt{\\left\\lvert{c^{2} - 4 k m}\\right\\rvert}\\right)} \\sin{\\left (\\frac{t}{2 m} \\left\\lvert{\\sin{\\left (\\frac{1}{2} \\operatorname{atan2}{\\left (0,c^{2} - 4 k m \\right )} \\right )} \\sqrt{\\left\\lvert{c^{2} - 4 k m}\\right\\rvert}}\\right\\rvert \\right )} + C_{4} e^{\\frac{t}{2 m} \\left(- c + \\cos{\\left (\\frac{1}{2} \\operatorname{atan2}{\\left (0,c^{2} - 4 k m \\right )} \\right )} \\sqrt{\\left\\lvert{c^{2} - 4 k m}\\right\\rvert}\\right)} \\cos{\\left (\\frac{t}{2 m} \\sin{\\left (\\frac{1}{2} \\operatorname{atan2}{\\left (0,c^{2} - 4 k m \\right )} \\right )} \\sqrt{\\left\\lvert{c^{2} - 4 k m}\\right\\rvert} \\right )}$$"
       ],
       "metadata": {},
       "output_type": "pyout",
       "prompt_number": 28,
       "text": [
        "             \u239b        \u239b     \u239b    2        \u239e\u239e    ______________\u239e               \n",
        "             \u239c        \u239catan2\u239d0, c  - 4\u22c5k\u22c5m\u23a0\u239f   \u2571 \u2502 2        \u2502 \u239f               \n",
        "           t\u22c5\u239c-c - cos\u239c\u2500\u2500\u2500\u2500\u2500\u2500\u2500\u2500\u2500\u2500\u2500\u2500\u2500\u2500\u2500\u2500\u2500\u2500\u2500\u2500\u239f\u22c5\u2572\u2571  \u2502c  - 4\u22c5k\u22c5m\u2502 \u239f    \u239b  \u2502   \u239b   \n",
        "             \u239d        \u239d         2          \u23a0                  \u23a0    \u239c  \u2502   \u239cata\n",
        "           \u2500\u2500\u2500\u2500\u2500\u2500\u2500\u2500\u2500\u2500\u2500\u2500\u2500\u2500\u2500\u2500\u2500\u2500\u2500\u2500\u2500\u2500\u2500\u2500\u2500\u2500\u2500\u2500\u2500\u2500\u2500\u2500\u2500\u2500\u2500\u2500\u2500\u2500\u2500\u2500\u2500\u2500\u2500\u2500\u2500\u2500\u2500\u2500\u2500\u2500\u2500\u2500    \u239ct\u22c5\u2502sin\u239c\u2500\u2500\u2500\n",
        "                                   2\u22c5m                             \u239c  \u2502   \u239d   \n",
        "x(t) = C\u2081\u22c5\u212f                                                    \u22c5   \u239c\u2500\u2500\u2500\u2500\u2500\u2500\u2500\u2500\u2500\u2500\n",
        "                                                                   \u239d          \n",
        "                                                                sin           \n",
        "\n",
        "                                               \u239b        \u239b     \u239b    2        \u239e\u239e\n",
        "                                               \u239c        \u239catan2\u239d0, c  - 4\u22c5k\u22c5m\u23a0\u239f\n",
        "  \u239b    2        \u239e\u239e    ______________\u2502\u239e       t\u22c5\u239c-c - cos\u239c\u2500\u2500\u2500\u2500\u2500\u2500\u2500\u2500\u2500\u2500\u2500\u2500\u2500\u2500\u2500\u2500\u2500\u2500\u2500\u2500\u239f\n",
        "n2\u239d0, c  - 4\u22c5k\u22c5m\u23a0\u239f   \u2571 \u2502 2        \u2502 \u2502\u239f         \u239d        \u239d         2          \u23a0\n",
        "\u2500\u2500\u2500\u2500\u2500\u2500\u2500\u2500\u2500\u2500\u2500\u2500\u2500\u2500\u2500\u2500\u2500\u239f\u22c5\u2572\u2571  \u2502c  - 4\u22c5k\u22c5m\u2502 \u2502\u239f       \u2500\u2500\u2500\u2500\u2500\u2500\u2500\u2500\u2500\u2500\u2500\u2500\u2500\u2500\u2500\u2500\u2500\u2500\u2500\u2500\u2500\u2500\u2500\u2500\u2500\u2500\u2500\u2500\u2500\u2500\u2500\u2500\u2500\n",
        "      2          \u23a0                  \u2502\u239f                               2\u22c5m      \n",
        "\u2500\u2500\u2500\u2500\u2500\u2500\u2500\u2500\u2500\u2500\u2500\u2500\u2500\u2500\u2500\u2500\u2500\u2500\u2500\u2500\u2500\u2500\u2500\u2500\u2500\u2500\u2500\u2500\u2500\u2500\u2500\u2500\u2500\u2500\u2500\u2500\u2500\u239f + C\u2082\u22c5\u212f                                 \n",
        "            2\u22c5m                      \u23a0                                        \n",
        "                                                                              \n",
        "\n",
        "    ______________\u239e                                                           \n",
        "   \u2571 \u2502 2        \u2502 \u239f                                                           \n",
        "\u22c5\u2572\u2571  \u2502c  - 4\u22c5k\u22c5m\u2502 \u239f    \u239b     \u239b     \u239b    2        \u239e\u239e    ______________\u239e       t\n",
        "                  \u23a0    \u239c     \u239catan2\u239d0, c  - 4\u22c5k\u22c5m\u23a0\u239f   \u2571 \u2502 2        \u2502 \u239f        \n",
        "\u2500\u2500\u2500\u2500\u2500\u2500\u2500\u2500\u2500\u2500\u2500\u2500\u2500\u2500\u2500\u2500\u2500\u2500\u2500    \u239ct\u22c5sin\u239c\u2500\u2500\u2500\u2500\u2500\u2500\u2500\u2500\u2500\u2500\u2500\u2500\u2500\u2500\u2500\u2500\u2500\u2500\u2500\u2500\u239f\u22c5\u2572\u2571  \u2502c  - 4\u22c5k\u22c5m\u2502 \u239f       \u2500\n",
        "                       \u239c     \u239d         2          \u23a0                  \u239f        \n",
        "                   \u22c5   \u239c\u2500\u2500\u2500\u2500\u2500\u2500\u2500\u2500\u2500\u2500\u2500\u2500\u2500\u2500\u2500\u2500\u2500\u2500\u2500\u2500\u2500\u2500\u2500\u2500\u2500\u2500\u2500\u2500\u2500\u2500\u2500\u2500\u2500\u2500\u2500\u2500\u2500\u2500\u2500\u2500\u2500\u2500\u2500\u2500\u2500\u239f + C\u2083\u22c5\u212f \n",
        "                       \u239d                     2\u22c5m                     \u23a0        \n",
        "                    cos                                                       \n",
        "\n",
        " \u239b        \u239b     \u239b    2        \u239e\u239e    ______________\u239e                           \n",
        " \u239c        \u239catan2\u239d0, c  - 4\u22c5k\u22c5m\u23a0\u239f   \u2571 \u2502 2        \u2502 \u239f                           \n",
        "\u22c5\u239c-c + cos\u239c\u2500\u2500\u2500\u2500\u2500\u2500\u2500\u2500\u2500\u2500\u2500\u2500\u2500\u2500\u2500\u2500\u2500\u2500\u2500\u2500\u239f\u22c5\u2572\u2571  \u2502c  - 4\u22c5k\u22c5m\u2502 \u239f    \u239b  \u2502   \u239b     \u239b    2    \n",
        " \u239d        \u239d         2          \u23a0                  \u23a0    \u239c  \u2502   \u239catan2\u239d0, c  - 4\n",
        "\u2500\u2500\u2500\u2500\u2500\u2500\u2500\u2500\u2500\u2500\u2500\u2500\u2500\u2500\u2500\u2500\u2500\u2500\u2500\u2500\u2500\u2500\u2500\u2500\u2500\u2500\u2500\u2500\u2500\u2500\u2500\u2500\u2500\u2500\u2500\u2500\u2500\u2500\u2500\u2500\u2500\u2500\u2500\u2500\u2500\u2500\u2500\u2500\u2500\u2500\u2500    \u239ct\u22c5\u2502sin\u239c\u2500\u2500\u2500\u2500\u2500\u2500\u2500\u2500\u2500\u2500\u2500\u2500\u2500\u2500\u2500\n",
        "                       2\u22c5m                             \u239c  \u2502   \u239d         2     \n",
        "                                                   \u22c5   \u239c\u2500\u2500\u2500\u2500\u2500\u2500\u2500\u2500\u2500\u2500\u2500\u2500\u2500\u2500\u2500\u2500\u2500\u2500\u2500\u2500\u2500\u2500\n",
        "                                                       \u239d                      \n",
        "                                                    sin                       \n",
        "\n",
        "                                   \u239b        \u239b     \u239b    2        \u239e\u239e    ________\n",
        "                                   \u239c        \u239catan2\u239d0, c  - 4\u22c5k\u22c5m\u23a0\u239f   \u2571 \u2502 2    \n",
        "    \u239e\u239e    ______________\u2502\u239e       t\u22c5\u239c-c + cos\u239c\u2500\u2500\u2500\u2500\u2500\u2500\u2500\u2500\u2500\u2500\u2500\u2500\u2500\u2500\u2500\u2500\u2500\u2500\u2500\u2500\u239f\u22c5\u2572\u2571  \u2502c  - 4\n",
        "\u22c5k\u22c5m\u23a0\u239f   \u2571 \u2502 2        \u2502 \u2502\u239f         \u239d        \u239d         2          \u23a0            \n",
        "\u2500\u2500\u2500\u2500\u2500\u239f\u22c5\u2572\u2571  \u2502c  - 4\u22c5k\u22c5m\u2502 \u2502\u239f       \u2500\u2500\u2500\u2500\u2500\u2500\u2500\u2500\u2500\u2500\u2500\u2500\u2500\u2500\u2500\u2500\u2500\u2500\u2500\u2500\u2500\u2500\u2500\u2500\u2500\u2500\u2500\u2500\u2500\u2500\u2500\u2500\u2500\u2500\u2500\u2500\u2500\u2500\u2500\u2500\u2500\u2500\u2500\u2500\u2500\n",
        "     \u23a0                  \u2502\u239f                               2\u22c5m                  \n",
        "\u2500\u2500\u2500\u2500\u2500\u2500\u2500\u2500\u2500\u2500\u2500\u2500\u2500\u2500\u2500\u2500\u2500\u2500\u2500\u2500\u2500\u2500\u2500\u2500\u2500\u239f + C\u2084\u22c5\u212f                                             \n",
        "2\u22c5m                      \u23a0                                                    \n",
        "                                                                              \n",
        "\n",
        "______\u239e                                                   \n",
        "    \u2502 \u239f                                                   \n",
        "\u22c5k\u22c5m\u2502 \u239f    \u239b     \u239b     \u239b    2        \u239e\u239e    ______________\u239e\n",
        "      \u23a0    \u239c     \u239catan2\u239d0, c  - 4\u22c5k\u22c5m\u23a0\u239f   \u2571 \u2502 2        \u2502 \u239f\n",
        "\u2500\u2500\u2500\u2500\u2500\u2500\u2500    \u239ct\u22c5sin\u239c\u2500\u2500\u2500\u2500\u2500\u2500\u2500\u2500\u2500\u2500\u2500\u2500\u2500\u2500\u2500\u2500\u2500\u2500\u2500\u2500\u239f\u22c5\u2572\u2571  \u2502c  - 4\u22c5k\u22c5m\u2502 \u239f\n",
        "           \u239c     \u239d         2          \u23a0                  \u239f\n",
        "       \u22c5   \u239c\u2500\u2500\u2500\u2500\u2500\u2500\u2500\u2500\u2500\u2500\u2500\u2500\u2500\u2500\u2500\u2500\u2500\u2500\u2500\u2500\u2500\u2500\u2500\u2500\u2500\u2500\u2500\u2500\u2500\u2500\u2500\u2500\u2500\u2500\u2500\u2500\u2500\u2500\u2500\u2500\u2500\u2500\u2500\u2500\u2500\u239f\n",
        "           \u239d                     2\u22c5m                     \u23a0\n",
        "        cos                                               "
       ]
      }
     ],
     "prompt_number": 28
    },
    {
     "cell_type": "code",
     "collapsed": false,
     "input": [],
     "language": "python",
     "metadata": {},
     "outputs": []
    }
   ],
   "metadata": {}
  }
 ]
}