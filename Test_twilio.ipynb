{
 "metadata": {
  "name": "",
  "signature": "sha256:9b303d9571ede22e7e1c11d32aaa9664c94c45e53d33d38f02606ec271c94c50"
 },
 "nbformat": 3,
 "nbformat_minor": 0,
 "worksheets": [
  {
   "cells": [
    {
     "cell_type": "code",
     "collapsed": false,
     "input": [],
     "language": "python",
     "metadata": {},
     "outputs": [
      {
       "metadata": {},
       "output_type": "pyout",
       "prompt_number": 1,
       "text": [
        "<twilio.rest.resources.messages.Message at 0x3b47fd0>"
       ]
      }
     ],
     "prompt_number": 1
    },
    {
     "cell_type": "heading",
     "level": 2,
     "metadata": {},
     "source": [
      "Sending message to People!"
     ]
    },
    {
     "cell_type": "heading",
     "level": 2,
     "metadata": {},
     "source": [
      "To Iman"
     ]
    },
    {
     "cell_type": "code",
     "collapsed": false,
     "input": [
      "from twilio.rest import TwilioRestClient \n",
      " \n",
      "# put your own credentials here \n",
      "ACCOUNT_SID = \"AC2f667bdb421f1ce09cf6a802303a3a4d\" \n",
      "AUTH_TOKEN = \"dfca9b8f4c5968ccf82ce0ae2b450f3d\" \n",
      " \n",
      "client = TwilioRestClient(ACCOUNT_SID, AUTH_TOKEN) \n",
      " \n",
      "client.messages.create(\n",
      "\tto=\"+436603532010\", \n",
      "\tfrom_=\"+14695377836\", \n",
      "\tbody=\"Hi Iman, This is Iman!!!\",  \n",
      ")"
     ],
     "language": "python",
     "metadata": {},
     "outputs": [
      {
       "metadata": {},
       "output_type": "pyout",
       "prompt_number": 1,
       "text": [
        "<twilio.rest.resources.messages.Message at 0x3bc9ba8>"
       ]
      }
     ],
     "prompt_number": 1
    },
    {
     "cell_type": "heading",
     "level": 2,
     "metadata": {},
     "source": [
      "To Gerhard"
     ]
    },
    {
     "cell_type": "code",
     "collapsed": false,
     "input": [
      "from twilio.rest import TwilioRestClient \n",
      " \n",
      "# put your own credentials here \n",
      "ACCOUNT_SID = \"AC2f667bdb421f1ce09cf6a802303a3a4d\" \n",
      "AUTH_TOKEN = \"dfca9b8f4c5968ccf82ce0ae2b450f3d\" \n",
      " \n",
      "client = TwilioRestClient(ACCOUNT_SID, AUTH_TOKEN) \n",
      " \n",
      "client.messages.create(\n",
      "\tto=\"+43676872547500\", \n",
      "\tfrom_=\"+14695377836\", \n",
      "\tbody=\"Hi Gerhard! This is a python generated message!\",  \n",
      ")"
     ],
     "language": "python",
     "metadata": {},
     "outputs": [
      {
       "metadata": {},
       "output_type": "pyout",
       "prompt_number": 3,
       "text": [
        "<twilio.rest.resources.messages.Message at 0x3b4e0f0>"
       ]
      }
     ],
     "prompt_number": 3
    },
    {
     "cell_type": "heading",
     "level": 2,
     "metadata": {},
     "source": [
      "To Oscar"
     ]
    },
    {
     "cell_type": "code",
     "collapsed": false,
     "input": [
      "from twilio.rest import TwilioRestClient \n",
      " \n",
      "# put your own credentials here \n",
      "ACCOUNT_SID = \"AC2f667bdb421f1ce09cf6a802303a3a4d\" \n",
      "AUTH_TOKEN = \"dfca9b8f4c5968ccf82ce0ae2b450f3d\" \n",
      " \n",
      "client = TwilioRestClient(ACCOUNT_SID, AUTH_TOKEN) \n",
      " \n",
      "client.messages.create(\n",
      "\tto=\"+436603811823\", \n",
      "\tfrom_=\"+14695377836\", \n",
      "\tbody=\"Hi Oscar! This is a python generated message!\",  \n",
      ")"
     ],
     "language": "python",
     "metadata": {},
     "outputs": [
      {
       "metadata": {},
       "output_type": "pyout",
       "prompt_number": 2,
       "text": [
        "<twilio.rest.resources.messages.Message at 0x3ae4978>"
       ]
      }
     ],
     "prompt_number": 2
    },
    {
     "cell_type": "heading",
     "level": 2,
     "metadata": {},
     "source": [
      "To Phani"
     ]
    },
    {
     "cell_type": "code",
     "collapsed": false,
     "input": [
      "from twilio.rest import TwilioRestClient \n",
      " \n",
      "# put your own credentials here \n",
      "ACCOUNT_SID = \"AC2f667bdb421f1ce09cf6a802303a3a4d\" \n",
      "AUTH_TOKEN = \"dfca9b8f4c5968ccf82ce0ae2b450f3d\" \n",
      " \n",
      "client = TwilioRestClient(ACCOUNT_SID, AUTH_TOKEN) \n",
      " \n",
      "client.messages.create(\n",
      "\tto=\"+436604752704\", \n",
      "\tfrom_=\"+14695377836\", \n",
      "\tbody=\"Hi Phani, This is Iman!!!\",  \n",
      ")"
     ],
     "language": "python",
     "metadata": {},
     "outputs": []
    },
    {
     "cell_type": "heading",
     "level": 1,
     "metadata": {},
     "source": [
      "Simulating the fridge report"
     ]
    },
    {
     "cell_type": "code",
     "collapsed": false,
     "input": [
      "from twilio.rest import TwilioRestClient\n",
      "SID = \"AC2f667bdb421f1ce09cf6a802303a3a4d\" \n",
      "Token = \"dfca9b8f4c5968ccf82ce0ae2b450f3d\" \n",
      "\n",
      "def sendSMS(to,SID,Token,msg):\n",
      "    client = TwilioRestClient(SID, Token) \n",
      "    for t in to:\n",
      "        client.messages.create(to=t,\n",
      "                               from_=\"+14695377836\",\n",
      "                               body=msg)"
     ],
     "language": "python",
     "metadata": {},
     "outputs": [],
     "prompt_number": 6
    },
    {
     "cell_type": "code",
     "collapsed": false,
     "input": [
      "numlist = ['+436603811823','+436604752704','+436603532010']\n",
      "sendSMS(numlist,SID,Token,'Der fridge is Kaput! Hahaha!')"
     ],
     "language": "python",
     "metadata": {},
     "outputs": [],
     "prompt_number": 7
    },
    {
     "cell_type": "code",
     "collapsed": false,
     "input": [],
     "language": "python",
     "metadata": {},
     "outputs": []
    }
   ],
   "metadata": {}
  }
 ]
}