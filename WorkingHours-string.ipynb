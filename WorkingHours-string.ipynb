{
 "metadata": {
  "name": ""
 },
 "nbformat": 3,
 "nbformat_minor": 0,
 "worksheets": [
  {
   "cells": [
    {
     "cell_type": "code",
     "collapsed": false,
     "input": [
      "import datetime as dt\n",
      "from datetime import datetime \n",
      "from operator import sub"
     ],
     "language": "python",
     "metadata": {},
     "outputs": [],
     "prompt_number": 1
    },
    {
     "cell_type": "code",
     "collapsed": false,
     "input": [
      "#f = open('notes.txt')\n",
      "#data = [dat for dat in f]\n",
      "#f.close()"
     ],
     "language": "python",
     "metadata": {},
     "outputs": [],
     "prompt_number": 2
    },
    {
     "cell_type": "code",
     "collapsed": false,
     "input": [
      "str = '2014-04-28\t09:45\t12:30\t13:00\t18:05'\n",
      "#str = data[-5]"
     ],
     "language": "python",
     "metadata": {},
     "outputs": [],
     "prompt_number": 5
    },
    {
     "cell_type": "code",
     "collapsed": false,
     "input": [
      "strlist = str.split()\n",
      "\n",
      "if (len(strlist[1:])%2 != 0):\n",
      "    print('Number of hour entreis must be even!')\n",
      "else:\n",
      "    tlist = [datetime.strptime(s,'%H:%M') for s in strlist[1:]]\n",
      "    difflist = list(map(sub,tlist[1::2],tlist[::2]))\n",
      "    total_sec = sum([i.seconds for i in difflist])\n",
      "\n",
      "    print('Total time (+30min) in HH:MM:SS : ', dt.timedelta(seconds = total_sec + 30*60))\n",
      "    \n"
     ],
     "language": "python",
     "metadata": {},
     "outputs": [
      {
       "output_type": "stream",
       "stream": "stdout",
       "text": [
        "Total time (+30min) in HH:MM:SS :  8:20:00\n"
       ]
      }
     ],
     "prompt_number": 7
    },
    {
     "cell_type": "code",
     "collapsed": false,
     "input": [],
     "language": "python",
     "metadata": {},
     "outputs": []
    }
   ],
   "metadata": {}
  }
 ]
}